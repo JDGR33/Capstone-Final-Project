{
 "cells": [
  {
   "cell_type": "markdown",
   "metadata": {},
   "source": [
    "# Data Science Capstone Project"
   ]
  },
  {
   "cell_type": "markdown",
   "metadata": {},
   "source": [
    "## Clustering of Chicago Zip Codes Areas and Covid-19 Vaccination"
   ]
  },
  {
   "cell_type": "markdown",
   "metadata": {},
   "source": [
    "## Problem"
   ]
  },
  {
   "cell_type": "markdown",
   "metadata": {},
   "source": [
    "The aim of this project is to cluster different areas of the City of Chicago so to label them based on their nearby venues and contrast these findings with the percentage of the population fully vaccinated.  \n",
    "\n",
    "It´s logical to think that the faster everyone gets vaccinated, the faster the city can go to pre-pandemic movement. This can only be done by vaccinating more people. Having local outbreaks pushes local officials to impose restrictions and regulations that can be detrimental to stores and venues. While many US states are closing in at becomeing fully vaccinated, having the full picture of this reality in numbers is important so investors can make inform decisions. This makes areas with higher vaccination numbers more desirable for possible investor.\n",
    "\n",
    "This project can help features venues owners or investors see which area is better suited for their type of venues, while helping them understand the risk of suffering local outbreaks and lose money because of it. \n"
   ]
  },
  {
   "cell_type": "markdown",
   "metadata": {},
   "source": [
    "## Background"
   ]
  },
  {
   "cell_type": "markdown",
   "metadata": {},
   "source": [
    "The city of Chicago, located in the state of Illinois, is one of the most populated cities in the U.S, with an estimated population of 2,693,976 people. It also has one of the biggest GDP in the world, $689 Billion in 2018 [(1)](https://en.wikipedia.org/wiki/Chicago). The city can be divided in many ways. The two main ways this is done for data collection is by: Zip codes or Community Areas. There is map that shows in datil how this boundaries are drawn [(2)](https://www.chicago.gov/content/dam/city/sites/covid/reports/2020-04-24/ChicagoCommunityAreaandZipcodeMap.pdf).\n",
    "\n",
    "All the data in this project will be from datasets organized by Zip Codes. It is important to note that there are a couple of Zip Codes that encompass areas that are outside city limits (Example: Zip Code 60827).\n",
    "\n",
    "As many US Cities, Chicago economy suffers because of the pandemic. Strick Government lockdowns, aim at controlling the epidemic, produced grated unemployment. This can be attributed to many Chicago-Area business closing their doors as the pandemic went on [(3)](https://www.chicagotribune.com/coronavirus/ct-coronavirus-chicago-economy-six-months-20200917-ao6ngj2e5janndwjsfbkbmzss4-story.html). This makes the risk of future lookdowns a very real threat for venues owners. "
   ]
  },
  {
   "cell_type": "markdown",
   "metadata": {},
   "source": [
    "## Data"
   ]
  },
  {
   "cell_type": "markdown",
   "metadata": {},
   "source": [
    "The city of Chicago has a vast amount of Data on their official web page. The information that will be using will be:\n",
    "\n",
    "1.\tA GeoJSON file with the Zip Codes boundaries of the City of Chicago. This will be used for visualization of the data collected. [(4)](https://data.cityofchicago.org/Facilities-Geographic-Boundaries/Boundaries-ZIP-Codes/gdcf-axmw)\n",
    "2.\tA Dataset of the City of Chicago Data Portal call “COVID-19 Vaccine Doses by ZIP Code - Series Completed”.  We are interested in the percentage of the population fully vaccinated by zip code and the coordinates of the area. [(5)](https://data.cityofchicago.org/Health-Human-Services/COVID-19-Vaccine-Doses-by-ZIP-Code-Series-Complete/8u6c-48j3)\n",
    "3.\tWe will use the Foursquare API to get the most common venues of each Zip Code.\n",
    "\n",
    "We will use the coordinates of the second Dataset as the center of our search for venues using the Foursquare API. We will organize this information by Zip Code so to use it for clustering each Zip Code center. Using the data of the percentage of people fully vaccinated by zip code, we will make a choropleth map making use of the GeoJSON file. After clustering each zip code center, we will plot each point that map. \n"
   ]
  }
 ],
 "metadata": {
  "kernelspec": {
   "display_name": "Python 3",
   "language": "python",
   "name": "python3"
  },
  "language_info": {
   "codemirror_mode": {
    "name": "ipython",
    "version": 3
   },
   "file_extension": ".py",
   "mimetype": "text/x-python",
   "name": "python",
   "nbconvert_exporter": "python",
   "pygments_lexer": "ipython3",
   "version": "3.7.6"
  }
 },
 "nbformat": 4,
 "nbformat_minor": 4
}
